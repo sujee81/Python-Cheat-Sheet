{
 "cells": [
  {
   "cell_type": "markdown",
   "metadata": {},
   "source": [
    "This notebook is based on [Python Cheat Sheet](http://ehmatthes.github.io/pcc/cheatsheets/README.html) by [Eric Matthes](https://github.com/ehmatthes)"
   ]
  },
  {
   "cell_type": "markdown",
   "metadata": {},
   "source": [
    "## Testing Your Code"
   ]
  },
  {
   "cell_type": "markdown",
   "metadata": {},
   "source": [
    "### Why test your code?\n",
    "When you write a function or a class, you can also write tests for that code. Testing proves that your code works as it's supposed to in the situations it's designed to handle, and also when people use your programs in unexpected ways. Writing tests gives you confidence that your code will work correctly as more people begin to use your programs. You can also add new features to your programs and know that you haven't broken existing behavior.\n",
    "\n",
    "A unit test verifies that one specific aspect of your code works as it's supposed to. A test case is a collection of unit tests which verify your code's behavior in a wide variety of situations."
   ]
  },
  {
   "cell_type": "markdown",
   "source": [
    "### Testing a function: A passing test\n",
    "Python's unittest module provides tools for testing your code. To try it out, we’ll create a function that returns a full name. We’ll use the function in a regular program, and then build a test case for the function."
   ],
   "metadata": {
    "collapsed": false
   }
  },
  {
   "cell_type": "markdown",
   "source": [
    "##### A function to test\n",
    "Refer `full_names.py`"
   ],
   "metadata": {
    "collapsed": false
   }
  },
  {
   "cell_type": "markdown",
   "source": [
    "##### Using the function\n",
    "Refer `names.py`"
   ],
   "metadata": {
    "collapsed": false
   }
  },
  {
   "cell_type": "markdown",
   "source": [
    "##### Building a testcase with one unit test\n",
    "To build a test case, make a class that inherits from `unittest.TestCase` and write methods that begin with `test_`. Save this as `test_full_names.py`"
   ],
   "metadata": {
    "collapsed": false
   }
  },
  {
   "cell_type": "markdown",
   "source": [
    "##### Running the test\n",
    "Python reports on each unit test in the test case. The dot reports a single passing test. Python informs us that it ran 1 test in less than 0.001 seconds, and the OK lets us know that all unit tests in the test case passed."
   ],
   "metadata": {
    "collapsed": false
   }
  },
  {
   "cell_type": "markdown",
   "source": [
    "Run following command in the command line<br><br>\n",
    "\n",
    "```\n",
    "python -m unittest test_full_names\n",
    "```"
   ],
   "metadata": {
    "collapsed": false
   }
  },
  {
   "cell_type": "markdown",
   "source": [
    "```\n",
    ".\n",
    "----------------------------------------------------------------------\n",
    "Ran 1 test in 0.000s\n",
    "\n",
    "OK\n",
    "```"
   ],
   "metadata": {
    "collapsed": false
   }
  },
  {
   "cell_type": "markdown",
   "source": [
    "### Testing a function: A failing test\n",
    "Failing tests are important; they tell you that a change in the code has affected existing behavior. When a test fails, you need to modify the code so the existing behavior still works."
   ],
   "metadata": {
    "collapsed": false
   }
  },
  {
   "cell_type": "markdown",
   "source": [
    "##### Modifying the function\n",
    "We’ll modify `get_full_name()` so it handles middle names, but we’ll do it in a way that breaks existing behavior."
   ],
   "metadata": {
    "collapsed": false
   }
  },
  {
   "cell_type": "markdown",
   "source": [
    "Replace `full_names.py` with<br><br>\n",
    "```python\n",
    "def get_full_name(first, middle, last):\n",
    "    \"\"\"Return a full name.\"\"\"\n",
    "    full_name = \"{0} {1} {2}\".format(first,  middle, last)\n",
    "    return full_name.title()\n",
    "```"
   ],
   "metadata": {
    "collapsed": false
   }
  },
  {
   "cell_type": "markdown",
   "source": [
    "##### Using the function"
   ],
   "metadata": {
    "collapsed": false
   }
  },
  {
   "cell_type": "markdown",
   "source": [
    "Replace `names.py` with<br><br>\n",
    "```python\n",
    "from full_names import get_full_name\n",
    "\n",
    "john = get_full_name('john', 'lee', 'hooker')\n",
    "print(john)\n",
    "\n",
    "david = get_full_name('david', 'lee', 'roth')\n",
    "print(david)\n",
    "```"
   ],
   "metadata": {
    "collapsed": false
   }
  },
  {
   "cell_type": "markdown",
   "source": [
    "##### Running the test\n",
    "When you change your code, it’s important to run your existing tests. This will tell you whether the changes you made affected existing behavior."
   ],
   "metadata": {
    "collapsed": false
   }
  },
  {
   "cell_type": "markdown",
   "source": [
    "```\n",
    "E\n",
    "======================================================================\n",
    "ERROR: test_first_last (test_full_names.NamesTestCase.test_first_last)\n",
    "Test names like Janis Joplin.\n",
    "----------------------------------------------------------------------\n",
    "Traceback (most recent call last):\n",
    "  File \"/Users/sujee/Projects/Python-Cheat-Sheet/test_full_names.py\", line 9, in test_first_last\n",
    "    full_name = get_full_name('janis', 'joplin')\n",
    "                ^^^^^^^^^^^^^^^^^^^^^^^^^^^^^^^^\n",
    "TypeError: get_full_name() missing 1 required positional argument: 'last'\n",
    "\n",
    "----------------------------------------------------------------------\n",
    "Ran 1 test in 0.000s\n",
    "\n",
    "FAILED (errors=1)\n",
    "```"
   ],
   "metadata": {
    "collapsed": false
   }
  },
  {
   "cell_type": "markdown",
   "source": [
    "##### Fixing the code\n",
    "When a test fails, the code needs to be modified until the test passes again. (Don’t make the mistake of rewriting your tests to fit your new code.) Here we can make the middle name optional."
   ],
   "metadata": {
    "collapsed": false
   }
  },
  {
   "cell_type": "markdown",
   "source": [
    "Replace `full_names.py` with<br><br>\n",
    "```python\n",
    "def get_full_name(first, last, middle=''):\n",
    "    \"\"\"Return a full name.\"\"\"\n",
    "    if middle:\n",
    "        full_name = \"{0} {1} {2}\".format(first, middle, last)\n",
    "    else:\n",
    "        full_name = \"{0} {1}\".format(first, last)\n",
    "    return full_name.title()\n",
    "```"
   ],
   "metadata": {
    "collapsed": false
   }
  },
  {
   "cell_type": "markdown",
   "source": [
    "##### Running the test\n",
    "Now the test should pass again, which means our original functionality is still intact."
   ],
   "metadata": {
    "collapsed": false
   }
  },
  {
   "cell_type": "markdown",
   "source": [
    "```\n",
    ".\n",
    "----------------------------------------------------------------------\n",
    "Ran 1 test in 0.000s\n",
    "\n",
    "OK\n",
    "```"
   ],
   "metadata": {
    "collapsed": false
   }
  },
  {
   "cell_type": "markdown",
   "source": [
    "### Adding more tests\n",
    "You can add as many unit tests to a test case as you need. To write a new test, add a new method to your test case class."
   ],
   "metadata": {
    "collapsed": false
   }
  },
  {
   "cell_type": "markdown",
   "source": [
    "##### Testing middle names\n",
    "We’ve shown that get_full_name() works for first and last names. Let’s test that it works for middle names as well."
   ],
   "metadata": {
    "collapsed": false
   }
  },
  {
   "cell_type": "markdown",
   "source": [
    "```python\n",
    "import unittest\n",
    "from full_names import get_full_name\n",
    "\n",
    "class NamesTestCase(unittest.TestCase):\n",
    "    \"\"\"Tests for names.py.\"\"\"\n",
    "    \n",
    "    def test_first_last(self):\n",
    "        \"\"\"Test names like Janis Joplin.\"\"\"\n",
    "        full_name = get_full_name('janis', 'joplin')\n",
    "        self.assertEqual(full_name, 'Janis Joplin')\n",
    "        \n",
    "    def test_middle(self):\n",
    "        \"\"\"Test names like David Lee Roth.\"\"\"\n",
    "        full_name = get_full_name('david', 'roth', 'lee')\n",
    "        self.assertEqual(full_name, 'David Lee Roth')\n",
    "\n",
    "if __name__ == '__main__':\n",
    "    unittest.main()\n",
    "```"
   ],
   "metadata": {
    "collapsed": false
   }
  },
  {
   "cell_type": "markdown",
   "source": [
    "##### Running the tests\n",
    "The two dots represent two passing tests."
   ],
   "metadata": {
    "collapsed": false
   }
  },
  {
   "cell_type": "markdown",
   "source": [
    "```\n",
    "..\n",
    "---------------------------------------\n",
    "Ran 2 tests in 0.000s\n",
    "OK\n",
    "```"
   ],
   "metadata": {
    "collapsed": false
   }
  },
  {
   "cell_type": "markdown",
   "source": [
    "### A variety of asset methods\n",
    "Python provides a number of assert methods you can use to test your code."
   ],
   "metadata": {
    "collapsed": false
   }
  },
  {
   "cell_type": "markdown",
   "source": [
    "##### Verify that a==b, or a != b"
   ],
   "metadata": {
    "collapsed": false
   }
  },
  {
   "cell_type": "markdown",
   "source": [
    "```python\n",
    "assertEqual(a, b)\n",
    "assertNotEqual(a, b)\n",
    "```"
   ],
   "metadata": {
    "collapsed": false
   }
  },
  {
   "cell_type": "markdown",
   "source": [
    "##### Verify that x is True, or x is False"
   ],
   "metadata": {
    "collapsed": false
   }
  },
  {
   "cell_type": "markdown",
   "source": [
    "```python\n",
    "assertTrue(x)\n",
    "assertFalse(x)\n",
    "```"
   ],
   "metadata": {
    "collapsed": false
   }
  },
  {
   "cell_type": "markdown",
   "source": [
    "##### Verify an item is in a list, or not in a list"
   ],
   "metadata": {
    "collapsed": false
   }
  },
  {
   "cell_type": "markdown",
   "source": [
    "```python\n",
    "assertIn(item, list)\n",
    "assertNotIn(item, list)\n",
    "```"
   ],
   "metadata": {
    "collapsed": false
   }
  },
  {
   "cell_type": "markdown",
   "source": [
    "### Testing a class\n",
    "Testing a class is similar to testing a function, since you’ll mostly be testing your methods."
   ],
   "metadata": {
    "collapsed": false
   }
  },
  {
   "cell_type": "markdown",
   "source": [
    "##### A class to test\n",
    "Refer `accountant.py`"
   ],
   "metadata": {
    "collapsed": false
   }
  },
  {
   "cell_type": "markdown",
   "source": [
    "##### Building a testcase\n",
    "For the first test, we’ll make sure we can start out with different initial balances. Refer `test_accountant.py`."
   ],
   "metadata": {
    "collapsed": false
   }
  },
  {
   "cell_type": "markdown",
   "source": [
    "##### Running the test"
   ],
   "metadata": {
    "collapsed": false
   }
  },
  {
   "cell_type": "markdown",
   "source": [
    "```\n",
    ".\n",
    "----------------------------------------------------------------------\n",
    "Ran 1 test in 0.000s\n",
    "\n",
    "OK\n",
    "```"
   ],
   "metadata": {
    "collapsed": false
   }
  },
  {
   "cell_type": "markdown",
   "source": [
    "### When is it okay to modify tests?\n",
    "In general you shouldn’t modify a test once it’s written. When a test fails it usually means new code you’ve written has broken existing functionality, and you need to modify the new code until all existing tests pass. If your original requirements have changed, it may be appropriate to modify some tests. This usually happens in the early stages of a project when desired behavior is still being sorted out."
   ],
   "metadata": {
    "collapsed": false
   }
  },
  {
   "cell_type": "markdown",
   "source": [
    "### The setUp() method\n",
    "When testing a class, you usually have to make an instance of the class. The setUp() method is run before every test. Any instances you make in setUp() are available in every test you write."
   ],
   "metadata": {
    "collapsed": false
   }
  },
  {
   "cell_type": "markdown",
   "source": [
    "##### Using setUp() to support multiple tests\n",
    "The instance `self.acc` can be used in each new test."
   ],
   "metadata": {
    "collapsed": false
   }
  },
  {
   "cell_type": "markdown",
   "source": [
    "Replace `test_accountant.py` with<br><br>\n",
    "```python\n",
    "import unittest\n",
    "from accountant import Accountant\n",
    "\n",
    "class TestAccountant(unittest.TestCase):\n",
    "    \"\"\"Tests for the class Accountant.\"\"\"\n",
    "\n",
    "    def setUp(self):\n",
    "        self.acc = Accountant()\n",
    "\n",
    "    def test_initial_balance(self):\n",
    "        # Default balance should be 0.\n",
    "        self.assertEqual(self.acc.balance, 0)\n",
    "\n",
    "        # Test non-default balance.\n",
    "        acc = Accountant(100)\n",
    "        self.assertEqual(acc.balance, 100)\n",
    "\n",
    "    def test_deposit(self):\n",
    "        # Test single deposit.\n",
    "        self.acc.deposit(100)\n",
    "        self.assertEqual(self.acc.balance, 100)\n",
    "\n",
    "        # Test multiple deposits.\n",
    "        self.acc.deposit(100)\n",
    "        self.acc.deposit(100)\n",
    "        self.assertEqual(self.acc.balance, 300)\n",
    "\n",
    "    def test_withdrawal(self):\n",
    "        # Test single withdrawal.\n",
    "        self.acc.deposit(1000)\n",
    "        self.acc.withdraw(100)\n",
    "        self.assertEqual(self.acc.balance, 900)\n",
    "```"
   ],
   "metadata": {
    "collapsed": false
   }
  },
  {
   "cell_type": "markdown",
   "source": [
    "```\n",
    "...\n",
    "----------------------------------------------------------------------\n",
    "Ran 3 tests in 0.000s\n",
    "\n",
    "OK\n",
    "```"
   ],
   "metadata": {
    "collapsed": false
   }
  },
  {
   "cell_type": "markdown",
   "source": [
    "##### Notebook created by [Sujeevan Nagarajah](https://github.com/sujee81)"
   ],
   "metadata": {
    "collapsed": false
   }
  },
  {
   "cell_type": "code",
   "outputs": [],
   "source": [],
   "metadata": {
    "collapsed": false
   },
   "execution_count": null
  }
 ],
 "metadata": {
  "kernelspec": {
   "display_name": "Python 3",
   "language": "python",
   "name": "python3"
  },
  "language_info": {
   "codemirror_mode": {
    "name": "ipython",
    "version": 3
   },
   "file_extension": ".py",
   "mimetype": "text/x-python",
   "name": "python",
   "nbconvert_exporter": "python",
   "pygments_lexer": "ipython3",
   "version": "3.6.3"
  }
 },
 "nbformat": 4,
 "nbformat_minor": 2
}
